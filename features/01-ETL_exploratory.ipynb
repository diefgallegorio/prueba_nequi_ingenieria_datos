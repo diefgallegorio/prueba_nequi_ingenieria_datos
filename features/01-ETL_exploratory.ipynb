{
 "cells": [
  {
   "cell_type": "code",
   "execution_count": 1,
   "metadata": {},
   "outputs": [],
   "source": [
    "# Importo librerías necesarias para la ejecución del proyecto\n",
    "import pandas as pd\n",
    "\n",
    "LIMIT = 10000000"
   ]
  },
  {
   "cell_type": "code",
   "execution_count": 2,
   "metadata": {},
   "outputs": [],
   "source": [
    "\n",
    "def clean_columns(columns):\n",
    "    try:\n",
    "        columns_clean = []\n",
    "        for column in columns:\n",
    "            column = column.replace(\"-\", \"\").upper()\n",
    "            column = \"_\".join(column.split())\n",
    "            columns_clean.append(column)\n",
    "        return columns_clean\n",
    "    except Exception as e:\n",
    "        print(e)\n",
    "\n"
   ]
  },
  {
   "cell_type": "code",
   "execution_count": 3,
   "metadata": {},
   "outputs": [
    {
     "data": {
      "text/html": [
       "<div>\n",
       "<style scoped>\n",
       "    .dataframe tbody tr th:only-of-type {\n",
       "        vertical-align: middle;\n",
       "    }\n",
       "\n",
       "    .dataframe tbody tr th {\n",
       "        vertical-align: top;\n",
       "    }\n",
       "\n",
       "    .dataframe thead th {\n",
       "        text-align: right;\n",
       "    }\n",
       "</style>\n",
       "<table border=\"1\" class=\"dataframe\">\n",
       "  <thead>\n",
       "    <tr style=\"text-align: right;\">\n",
       "      <th></th>\n",
       "      <th>User</th>\n",
       "      <th>Card</th>\n",
       "      <th>Year</th>\n",
       "      <th>Month</th>\n",
       "      <th>Day</th>\n",
       "      <th>Time</th>\n",
       "      <th>Amount</th>\n",
       "      <th>Use Chip</th>\n",
       "      <th>Merchant Name</th>\n",
       "      <th>Merchant City</th>\n",
       "      <th>Merchant State</th>\n",
       "      <th>Zip</th>\n",
       "      <th>MCC</th>\n",
       "      <th>Errors?</th>\n",
       "      <th>Is Fraud?</th>\n",
       "    </tr>\n",
       "  </thead>\n",
       "  <tbody>\n",
       "    <tr>\n",
       "      <th>14386900</th>\n",
       "      <td>1174</td>\n",
       "      <td>2</td>\n",
       "      <td>2019</td>\n",
       "      <td>2</td>\n",
       "      <td>2</td>\n",
       "      <td>16:08</td>\n",
       "      <td>$26.10</td>\n",
       "      <td>Chip Transaction</td>\n",
       "      <td>1913477460590765860</td>\n",
       "      <td>Los Angeles</td>\n",
       "      <td>CA</td>\n",
       "      <td>90002.0</td>\n",
       "      <td>5300</td>\n",
       "      <td>NaN</td>\n",
       "      <td>No</td>\n",
       "    </tr>\n",
       "    <tr>\n",
       "      <th>14386901</th>\n",
       "      <td>1174</td>\n",
       "      <td>2</td>\n",
       "      <td>2019</td>\n",
       "      <td>2</td>\n",
       "      <td>2</td>\n",
       "      <td>22:14</td>\n",
       "      <td>$64.56</td>\n",
       "      <td>Chip Transaction</td>\n",
       "      <td>4722913068560264812</td>\n",
       "      <td>Reno</td>\n",
       "      <td>NV</td>\n",
       "      <td>89511.0</td>\n",
       "      <td>5411</td>\n",
       "      <td>NaN</td>\n",
       "      <td>No</td>\n",
       "    </tr>\n",
       "  </tbody>\n",
       "</table>\n",
       "</div>"
      ],
      "text/plain": [
       "          User  Card  Year  Month  Day   Time  Amount          Use Chip  \\\n",
       "14386900  1174     2  2019      2    2  16:08  $26.10  Chip Transaction   \n",
       "14386901  1174     2  2019      2    2  22:14  $64.56  Chip Transaction   \n",
       "\n",
       "                Merchant Name Merchant City Merchant State      Zip   MCC  \\\n",
       "14386900  1913477460590765860   Los Angeles             CA  90002.0  5300   \n",
       "14386901  4722913068560264812          Reno             NV  89511.0  5411   \n",
       "\n",
       "         Errors? Is Fraud?  \n",
       "14386900     NaN        No  \n",
       "14386901     NaN        No  "
      ]
     },
     "execution_count": 3,
     "metadata": {},
     "output_type": "execute_result"
    }
   ],
   "source": [
    "# Dataset de transactiones\n",
    "df_transactions = pd.read_csv(\"./../data/raw/credit_card_transactions-ibm_v2.csv\")\n",
    "df_transactions = df_transactions.tail(10000000)\n",
    "df_transactions.head(2)\n"
   ]
  },
  {
   "cell_type": "code",
   "execution_count": 4,
   "metadata": {},
   "outputs": [
    {
     "data": {
      "text/html": [
       "<div>\n",
       "<style scoped>\n",
       "    .dataframe tbody tr th:only-of-type {\n",
       "        vertical-align: middle;\n",
       "    }\n",
       "\n",
       "    .dataframe tbody tr th {\n",
       "        vertical-align: top;\n",
       "    }\n",
       "\n",
       "    .dataframe thead th {\n",
       "        text-align: right;\n",
       "    }\n",
       "</style>\n",
       "<table border=\"1\" class=\"dataframe\">\n",
       "  <thead>\n",
       "    <tr style=\"text-align: right;\">\n",
       "      <th></th>\n",
       "      <th>Person</th>\n",
       "      <th>Current Age</th>\n",
       "      <th>Retirement Age</th>\n",
       "      <th>Birth Year</th>\n",
       "      <th>Birth Month</th>\n",
       "      <th>Gender</th>\n",
       "      <th>Address</th>\n",
       "      <th>Apartment</th>\n",
       "      <th>City</th>\n",
       "      <th>State</th>\n",
       "      <th>Zipcode</th>\n",
       "      <th>Latitude</th>\n",
       "      <th>Longitude</th>\n",
       "      <th>Per Capita Income - Zipcode</th>\n",
       "      <th>Yearly Income - Person</th>\n",
       "      <th>Total Debt</th>\n",
       "      <th>FICO Score</th>\n",
       "      <th>Num Credit Cards</th>\n",
       "    </tr>\n",
       "  </thead>\n",
       "  <tbody>\n",
       "    <tr>\n",
       "      <th>0</th>\n",
       "      <td>Hazel Robinson</td>\n",
       "      <td>53</td>\n",
       "      <td>66</td>\n",
       "      <td>1966</td>\n",
       "      <td>11</td>\n",
       "      <td>Female</td>\n",
       "      <td>462 Rose Lane</td>\n",
       "      <td>NaN</td>\n",
       "      <td>La Verne</td>\n",
       "      <td>CA</td>\n",
       "      <td>91750</td>\n",
       "      <td>34.15</td>\n",
       "      <td>-117.76</td>\n",
       "      <td>$29278</td>\n",
       "      <td>$59696</td>\n",
       "      <td>$127613</td>\n",
       "      <td>787</td>\n",
       "      <td>5</td>\n",
       "    </tr>\n",
       "    <tr>\n",
       "      <th>1</th>\n",
       "      <td>Sasha Sadr</td>\n",
       "      <td>53</td>\n",
       "      <td>68</td>\n",
       "      <td>1966</td>\n",
       "      <td>12</td>\n",
       "      <td>Female</td>\n",
       "      <td>3606 Federal Boulevard</td>\n",
       "      <td>NaN</td>\n",
       "      <td>Little Neck</td>\n",
       "      <td>NY</td>\n",
       "      <td>11363</td>\n",
       "      <td>40.76</td>\n",
       "      <td>-73.74</td>\n",
       "      <td>$37891</td>\n",
       "      <td>$77254</td>\n",
       "      <td>$191349</td>\n",
       "      <td>701</td>\n",
       "      <td>5</td>\n",
       "    </tr>\n",
       "  </tbody>\n",
       "</table>\n",
       "</div>"
      ],
      "text/plain": [
       "           Person  Current Age  Retirement Age  Birth Year  Birth Month  \\\n",
       "0  Hazel Robinson           53              66        1966           11   \n",
       "1      Sasha Sadr           53              68        1966           12   \n",
       "\n",
       "   Gender                 Address  Apartment         City State  Zipcode  \\\n",
       "0  Female           462 Rose Lane        NaN     La Verne    CA    91750   \n",
       "1  Female  3606 Federal Boulevard        NaN  Little Neck    NY    11363   \n",
       "\n",
       "   Latitude  Longitude Per Capita Income - Zipcode Yearly Income - Person  \\\n",
       "0     34.15    -117.76                      $29278                 $59696   \n",
       "1     40.76     -73.74                      $37891                 $77254   \n",
       "\n",
       "  Total Debt  FICO Score  Num Credit Cards  \n",
       "0    $127613         787                 5  \n",
       "1    $191349         701                 5  "
      ]
     },
     "execution_count": 4,
     "metadata": {},
     "output_type": "execute_result"
    }
   ],
   "source": [
    "# Dataset de usuarios\n",
    "df_users = pd.read_csv(\"./../data/raw/sd254_users.csv\")\n",
    "df_users.head(2)\n"
   ]
  },
  {
   "cell_type": "code",
   "execution_count": 5,
   "metadata": {},
   "outputs": [
    {
     "data": {
      "text/html": [
       "<div>\n",
       "<style scoped>\n",
       "    .dataframe tbody tr th:only-of-type {\n",
       "        vertical-align: middle;\n",
       "    }\n",
       "\n",
       "    .dataframe tbody tr th {\n",
       "        vertical-align: top;\n",
       "    }\n",
       "\n",
       "    .dataframe thead th {\n",
       "        text-align: right;\n",
       "    }\n",
       "</style>\n",
       "<table border=\"1\" class=\"dataframe\">\n",
       "  <thead>\n",
       "    <tr style=\"text-align: right;\">\n",
       "      <th></th>\n",
       "      <th>User</th>\n",
       "      <th>CARD INDEX</th>\n",
       "      <th>Card Brand</th>\n",
       "      <th>Card Type</th>\n",
       "      <th>Card Number</th>\n",
       "      <th>Expires</th>\n",
       "      <th>CVV</th>\n",
       "      <th>Has Chip</th>\n",
       "      <th>Cards Issued</th>\n",
       "      <th>Credit Limit</th>\n",
       "      <th>Acct Open Date</th>\n",
       "      <th>Year PIN last Changed</th>\n",
       "      <th>Card on Dark Web</th>\n",
       "    </tr>\n",
       "  </thead>\n",
       "  <tbody>\n",
       "    <tr>\n",
       "      <th>0</th>\n",
       "      <td>0</td>\n",
       "      <td>0</td>\n",
       "      <td>Visa</td>\n",
       "      <td>Debit</td>\n",
       "      <td>4344676511950444</td>\n",
       "      <td>12/2022</td>\n",
       "      <td>623</td>\n",
       "      <td>YES</td>\n",
       "      <td>2</td>\n",
       "      <td>$24295</td>\n",
       "      <td>09/2002</td>\n",
       "      <td>2008</td>\n",
       "      <td>No</td>\n",
       "    </tr>\n",
       "    <tr>\n",
       "      <th>1</th>\n",
       "      <td>0</td>\n",
       "      <td>1</td>\n",
       "      <td>Visa</td>\n",
       "      <td>Debit</td>\n",
       "      <td>4956965974959986</td>\n",
       "      <td>12/2020</td>\n",
       "      <td>393</td>\n",
       "      <td>YES</td>\n",
       "      <td>2</td>\n",
       "      <td>$21968</td>\n",
       "      <td>04/2014</td>\n",
       "      <td>2014</td>\n",
       "      <td>No</td>\n",
       "    </tr>\n",
       "  </tbody>\n",
       "</table>\n",
       "</div>"
      ],
      "text/plain": [
       "   User  CARD INDEX Card Brand Card Type       Card Number  Expires  CVV  \\\n",
       "0     0           0       Visa     Debit  4344676511950444  12/2022  623   \n",
       "1     0           1       Visa     Debit  4956965974959986  12/2020  393   \n",
       "\n",
       "  Has Chip  Cards Issued Credit Limit Acct Open Date  Year PIN last Changed  \\\n",
       "0      YES             2       $24295        09/2002                   2008   \n",
       "1      YES             2       $21968        04/2014                   2014   \n",
       "\n",
       "  Card on Dark Web  \n",
       "0               No  \n",
       "1               No  "
      ]
     },
     "execution_count": 5,
     "metadata": {},
     "output_type": "execute_result"
    }
   ],
   "source": [
    "# Dataset de tarjetas\n",
    "df_cards = pd.read_csv(\"./../data/raw/sd254_cards.csv\")\n",
    "df_cards.head(2)\n"
   ]
  },
  {
   "attachments": {},
   "cell_type": "markdown",
   "metadata": {},
   "source": [
    "## Data cleaning"
   ]
  },
  {
   "attachments": {},
   "cell_type": "markdown",
   "metadata": {},
   "source": [
    "#### Renombrar las columnas"
   ]
  },
  {
   "cell_type": "code",
   "execution_count": 6,
   "metadata": {},
   "outputs": [],
   "source": [
    "# Add index and clean columns to user and cards data\n",
    "df_users = df_users.reset_index().rename(columns={'index': 'ID_user',\n",
    "                                                  'Person': 'user_full_name'})\n",
    "df_users.columns = clean_columns(df_users.columns)\n",
    "\n",
    "df_cards = df_cards.rename(columns={'CARD INDEX': 'ID_card',\n",
    "                                    'User': 'ID_user'})\n",
    "df_cards.columns = clean_columns(df_cards.columns)\n",
    "\n",
    "# Rename columns of user and card ID's and clean columns on transactions data\n",
    "df_transactions = df_transactions.reset_index().rename(\n",
    "                                                columns={\n",
    "                                                    'User': 'ID_user',\n",
    "                                                    'Card': 'ID_card',\n",
    "                                                    'index': 'ID_transaction'\n",
    "                                                })\n",
    "df_transactions.columns = clean_columns(df_transactions.columns)\n"
   ]
  },
  {
   "attachments": {},
   "cell_type": "markdown",
   "metadata": {},
   "source": [
    "### Control de valores nulos, formatos de las columnas y reporte de duplicados"
   ]
  },
  {
   "attachments": {},
   "cell_type": "markdown",
   "metadata": {},
   "source": [
    "#### Users"
   ]
  },
  {
   "cell_type": "code",
   "execution_count": 7,
   "metadata": {},
   "outputs": [
    {
     "name": "stdout",
     "output_type": "stream",
     "text": [
      "<class 'pandas.core.frame.DataFrame'>\n",
      "RangeIndex: 2000 entries, 0 to 1999\n",
      "Data columns (total 19 columns):\n",
      " #   Column                     Non-Null Count  Dtype  \n",
      "---  ------                     --------------  -----  \n",
      " 0   ID_USER                    2000 non-null   int64  \n",
      " 1   USER_FULL_NAME             2000 non-null   object \n",
      " 2   CURRENT_AGE                2000 non-null   int64  \n",
      " 3   RETIREMENT_AGE             2000 non-null   int64  \n",
      " 4   BIRTH_YEAR                 2000 non-null   int64  \n",
      " 5   BIRTH_MONTH                2000 non-null   int64  \n",
      " 6   GENDER                     2000 non-null   object \n",
      " 7   ADDRESS                    2000 non-null   object \n",
      " 8   APARTMENT                  528 non-null    float64\n",
      " 9   CITY                       2000 non-null   object \n",
      " 10  STATE                      2000 non-null   object \n",
      " 11  ZIPCODE                    2000 non-null   int64  \n",
      " 12  LATITUDE                   2000 non-null   float64\n",
      " 13  LONGITUDE                  2000 non-null   float64\n",
      " 14  PER_CAPITA_INCOME_ZIPCODE  2000 non-null   object \n",
      " 15  YEARLY_INCOME_PERSON       2000 non-null   object \n",
      " 16  TOTAL_DEBT                 2000 non-null   object \n",
      " 17  FICO_SCORE                 2000 non-null   int64  \n",
      " 18  NUM_CREDIT_CARDS           2000 non-null   int64  \n",
      "dtypes: float64(3), int64(8), object(8)\n",
      "memory usage: 297.0+ KB\n"
     ]
    }
   ],
   "source": [
    "# Conteo de valores no nulos, con su respectivo tipo de dato por cada columna.\n",
    "df_users.info()"
   ]
  },
  {
   "attachments": {},
   "cell_type": "markdown",
   "metadata": {},
   "source": [
    "Con el resultado anterior, encontramos que debemos cambiar de tipo de dato las siguientes columnas:\n",
    "* **\\'Per Capita Income - Zipcode\\'**: De object a float, ya que es un valor numérico precedido un signo $\n",
    "* **:\\'Yearly Income - Person\\'**: De object a float, ya que es un valor numérico precedido un signo $\n",
    "* **:\\'Total Debt\\'**: De object a float, ya que es un valor numérico precedido un signo $\n",
    "* **:\\'Zipcode\\'**: De float a texto, ya que es un valor que no tiene un sentido ordinal.\n",
    "* **:\\'Apartment\\'**: De float a object, ya que de acuerdo a la exploración, no cumple las condiciones para ser categorizado como numérico, por lo cual lo ideal es que fuera tratado como texto. Además, los valores nulos se deciden reemplazar con '0', con el fin de indicar que no aplica o no existen datos allí.\n",
    "\n",
    "En este caso no se encuentran valores duplicados, por lo cual, como paso final se guarda el resultado como archivo parquet, debido a sus beneficios de eficiencia de lectura, escritura y almacenamiento de los datos"
   ]
  },
  {
   "cell_type": "code",
   "execution_count": 8,
   "metadata": {},
   "outputs": [
    {
     "data": {
      "text/html": [
       "<div>\n",
       "<style scoped>\n",
       "    .dataframe tbody tr th:only-of-type {\n",
       "        vertical-align: middle;\n",
       "    }\n",
       "\n",
       "    .dataframe tbody tr th {\n",
       "        vertical-align: top;\n",
       "    }\n",
       "\n",
       "    .dataframe thead th {\n",
       "        text-align: right;\n",
       "    }\n",
       "</style>\n",
       "<table border=\"1\" class=\"dataframe\">\n",
       "  <thead>\n",
       "    <tr style=\"text-align: right;\">\n",
       "      <th></th>\n",
       "      <th>ID_USER</th>\n",
       "      <th>USER_FULL_NAME</th>\n",
       "      <th>CURRENT_AGE</th>\n",
       "      <th>RETIREMENT_AGE</th>\n",
       "      <th>BIRTH_YEAR</th>\n",
       "      <th>BIRTH_MONTH</th>\n",
       "      <th>GENDER</th>\n",
       "      <th>ADDRESS</th>\n",
       "      <th>APARTMENT</th>\n",
       "      <th>CITY</th>\n",
       "      <th>STATE</th>\n",
       "      <th>ZIPCODE</th>\n",
       "      <th>LATITUDE</th>\n",
       "      <th>LONGITUDE</th>\n",
       "      <th>PER_CAPITA_INCOME_ZIPCODE</th>\n",
       "      <th>YEARLY_INCOME_PERSON</th>\n",
       "      <th>TOTAL_DEBT</th>\n",
       "      <th>FICO_SCORE</th>\n",
       "      <th>NUM_CREDIT_CARDS</th>\n",
       "    </tr>\n",
       "  </thead>\n",
       "  <tbody>\n",
       "  </tbody>\n",
       "</table>\n",
       "</div>"
      ],
      "text/plain": [
       "Empty DataFrame\n",
       "Columns: [ID_USER, USER_FULL_NAME, CURRENT_AGE, RETIREMENT_AGE, BIRTH_YEAR, BIRTH_MONTH, GENDER, ADDRESS, APARTMENT, CITY, STATE, ZIPCODE, LATITUDE, LONGITUDE, PER_CAPITA_INCOME_ZIPCODE, YEARLY_INCOME_PERSON, TOTAL_DEBT, FICO_SCORE, NUM_CREDIT_CARDS]\n",
       "Index: []"
      ]
     },
     "execution_count": 8,
     "metadata": {},
     "output_type": "execute_result"
    }
   ],
   "source": [
    "# Rows duplicated\n",
    "df_users[df_users.duplicated()]"
   ]
  },
  {
   "cell_type": "code",
   "execution_count": 9,
   "metadata": {},
   "outputs": [],
   "source": [
    "# Limpieza y transformación de las columnas\n",
    "df_users['PER_CAPITA_INCOME_ZIPCODE'] = df_users['PER_CAPITA_INCOME_ZIPCODE'].str[1:].astype(float)\n",
    "df_users['YEARLY_INCOME_PERSON'] = df_users['YEARLY_INCOME_PERSON'].str[1:].astype(float)\n",
    "df_users['TOTAL_DEBT'] = df_users['TOTAL_DEBT'].str[1:].astype(float)\n",
    "df_users['ZIPCODE'] = df_users['ZIPCODE'].astype(str)\n",
    "df_users['APARTMENT'] = df_users['APARTMENT'].fillna(0).astype(int).astype(str)\n",
    "\n",
    "# Almacenamiento del dataframe final de usuarios\n",
    "df_users.to_parquet(\"./../data/processed/data_users.parquet\", engine='fastparquet')"
   ]
  },
  {
   "cell_type": "code",
   "execution_count": 10,
   "metadata": {},
   "outputs": [
    {
     "name": "stdout",
     "output_type": "stream",
     "text": [
      "Validación clave primaria: True\n",
      "Validación completitud de los datos: True\n",
      "Validación duplicidad de datos: True\n"
     ]
    }
   ],
   "source": [
    "print(f\"Validación clave primaria: {df_users.ID_USER.nunique() == len(df_users)}\")\n",
    "print(f\"Validación completitud de los datos: {df_users.isnull().sum().sum() == 0}\")\n",
    "print(f\"Validación duplicidad de datos: {len(df_users[df_users.duplicated()]) == 0}\")"
   ]
  },
  {
   "attachments": {},
   "cell_type": "markdown",
   "metadata": {},
   "source": [
    "#### Cards"
   ]
  },
  {
   "cell_type": "code",
   "execution_count": 11,
   "metadata": {},
   "outputs": [
    {
     "name": "stdout",
     "output_type": "stream",
     "text": [
      "<class 'pandas.core.frame.DataFrame'>\n",
      "RangeIndex: 6146 entries, 0 to 6145\n",
      "Data columns (total 13 columns):\n",
      " #   Column                 Non-Null Count  Dtype \n",
      "---  ------                 --------------  ----- \n",
      " 0   ID_USER                6146 non-null   int64 \n",
      " 1   ID_CARD                6146 non-null   int64 \n",
      " 2   CARD_BRAND             6146 non-null   object\n",
      " 3   CARD_TYPE              6146 non-null   object\n",
      " 4   CARD_NUMBER            6146 non-null   int64 \n",
      " 5   EXPIRES                6146 non-null   object\n",
      " 6   CVV                    6146 non-null   int64 \n",
      " 7   HAS_CHIP               6146 non-null   object\n",
      " 8   CARDS_ISSUED           6146 non-null   int64 \n",
      " 9   CREDIT_LIMIT           6146 non-null   object\n",
      " 10  ACCT_OPEN_DATE         6146 non-null   object\n",
      " 11  YEAR_PIN_LAST_CHANGED  6146 non-null   int64 \n",
      " 12  CARD_ON_DARK_WEB       6146 non-null   object\n",
      "dtypes: int64(6), object(7)\n",
      "memory usage: 624.3+ KB\n"
     ]
    }
   ],
   "source": [
    "# Conteo de valores no nulos, con su respectivo tipo de dato por cada columna.\n",
    "df_cards.info()"
   ]
  },
  {
   "attachments": {},
   "cell_type": "markdown",
   "metadata": {},
   "source": [
    "Con el resultado anterior, encontramos que debemos cambiar de tipo de dato las siguientes columnas:\n",
    "* **\\'Credit Limit\\'**: De object a float, ya que es un valor numérico precedido un signo $\n",
    "* **\\'Has Chip\\'**: De object a bool, ya que es un atributo que tiene como posibles valores Si o No.\n",
    "* **\\'Card on Dark Web\\'**: De object a bool, ya que es un atributo que tiene como posibles valores Si o No.\n",
    "* **\\'Card Number\\'**: De int a texto, ya que es un valor que no tiene un sentido ordinal.\n",
    "* **\\'CVV\\'**: De int a texto, ya que es un valor que no tiene un sentido ordinal.\n",
    "\n",
    "En este caso no se encuentran valores duplicados, por lo cual, como paso final se guarda el resultado como archivo parquet, debido a sus beneficios de eficiencia de lectura, escritura y almacenamiento de los datos"
   ]
  },
  {
   "cell_type": "code",
   "execution_count": 12,
   "metadata": {},
   "outputs": [
    {
     "data": {
      "text/html": [
       "<div>\n",
       "<style scoped>\n",
       "    .dataframe tbody tr th:only-of-type {\n",
       "        vertical-align: middle;\n",
       "    }\n",
       "\n",
       "    .dataframe tbody tr th {\n",
       "        vertical-align: top;\n",
       "    }\n",
       "\n",
       "    .dataframe thead th {\n",
       "        text-align: right;\n",
       "    }\n",
       "</style>\n",
       "<table border=\"1\" class=\"dataframe\">\n",
       "  <thead>\n",
       "    <tr style=\"text-align: right;\">\n",
       "      <th></th>\n",
       "      <th>ID_USER</th>\n",
       "      <th>ID_CARD</th>\n",
       "      <th>CARD_BRAND</th>\n",
       "      <th>CARD_TYPE</th>\n",
       "      <th>CARD_NUMBER</th>\n",
       "      <th>EXPIRES</th>\n",
       "      <th>CVV</th>\n",
       "      <th>HAS_CHIP</th>\n",
       "      <th>CARDS_ISSUED</th>\n",
       "      <th>CREDIT_LIMIT</th>\n",
       "      <th>ACCT_OPEN_DATE</th>\n",
       "      <th>YEAR_PIN_LAST_CHANGED</th>\n",
       "      <th>CARD_ON_DARK_WEB</th>\n",
       "    </tr>\n",
       "  </thead>\n",
       "  <tbody>\n",
       "  </tbody>\n",
       "</table>\n",
       "</div>"
      ],
      "text/plain": [
       "Empty DataFrame\n",
       "Columns: [ID_USER, ID_CARD, CARD_BRAND, CARD_TYPE, CARD_NUMBER, EXPIRES, CVV, HAS_CHIP, CARDS_ISSUED, CREDIT_LIMIT, ACCT_OPEN_DATE, YEAR_PIN_LAST_CHANGED, CARD_ON_DARK_WEB]\n",
       "Index: []"
      ]
     },
     "execution_count": 12,
     "metadata": {},
     "output_type": "execute_result"
    }
   ],
   "source": [
    "# Columns to report as duplicates\n",
    "df_cards[df_cards.duplicated()]"
   ]
  },
  {
   "cell_type": "code",
   "execution_count": 13,
   "metadata": {},
   "outputs": [],
   "source": [
    "# Data cleaning and transformation\n",
    "df_cards['CREDIT_LIMIT'] = df_cards['CREDIT_LIMIT'].str[1:].astype(float)\n",
    "df_cards['HAS_CHIP'] =  df_cards['HAS_CHIP'].replace({'YES': True, 'NO': False}).astype(bool)\n",
    "df_cards['CARD_ON_DARK_WEB'] =  df_cards['CARD_ON_DARK_WEB'].replace({'YES': True, 'NO': False}).astype(bool)\n",
    "df_cards[['CARD_NUMBER', 'CVV']] = df_cards[['CARD_NUMBER', 'CVV']].astype(str)\n",
    "\n",
    "# Storage of credit card data\n",
    "df_cards.to_parquet(\"./../data/processed/data_cards.parquet\", engine='fastparquet')\n"
   ]
  },
  {
   "cell_type": "code",
   "execution_count": 14,
   "metadata": {},
   "outputs": [
    {
     "name": "stdout",
     "output_type": "stream",
     "text": [
      "Validación clave primaria: False\n",
      "Validación completitud de los datos: True\n",
      "Validación duplicidad de datos: True\n"
     ]
    }
   ],
   "source": [
    "print(f\"Validación clave primaria: {df_cards.ID_CARD.nunique() == len(df_cards)}\")\n",
    "print(f\"Validación completitud de los datos: {df_cards.isnull().sum().sum() == 0}\")\n",
    "print(f\"Validación duplicidad de datos: {len(df_cards[df_cards.duplicated()]) == 0}\")\n"
   ]
  },
  {
   "attachments": {},
   "cell_type": "markdown",
   "metadata": {},
   "source": [
    "#### Transactions"
   ]
  },
  {
   "cell_type": "code",
   "execution_count": 16,
   "metadata": {},
   "outputs": [
    {
     "data": {
      "text/plain": [
       "ID_TRANSACTION     0.00000\n",
       "ID_USER            0.00000\n",
       "ID_CARD            0.00000\n",
       "YEAR               0.00000\n",
       "MONTH              0.00000\n",
       "DAY                0.00000\n",
       "TIME               0.00000\n",
       "AMOUNT             0.00000\n",
       "USE_CHIP           0.00000\n",
       "MERCHANT_NAME      0.00000\n",
       "MERCHANT_CITY      0.00000\n",
       "MERCHANT_STATE    10.39978\n",
       "ZIP               11.01091\n",
       "MCC                0.00000\n",
       "ERRORS?           98.42521\n",
       "IS_FRAUD?          0.00000\n",
       "dtype: float64"
      ]
     },
     "execution_count": 16,
     "metadata": {},
     "output_type": "execute_result"
    }
   ],
   "source": [
    "# Percentage of empty values in each column\n",
    "df_transactions.isnull().sum() / df_transactions.shape[0] * 100"
   ]
  },
  {
   "cell_type": "code",
   "execution_count": 17,
   "metadata": {},
   "outputs": [
    {
     "name": "stdout",
     "output_type": "stream",
     "text": [
      "<class 'pandas.core.frame.DataFrame'>\n",
      "RangeIndex: 10000000 entries, 0 to 9999999\n",
      "Data columns (total 16 columns):\n",
      " #   Column          Dtype  \n",
      "---  ------          -----  \n",
      " 0   ID_TRANSACTION  int64  \n",
      " 1   ID_USER         int64  \n",
      " 2   ID_CARD         int64  \n",
      " 3   YEAR            int64  \n",
      " 4   MONTH           int64  \n",
      " 5   DAY             int64  \n",
      " 6   TIME            object \n",
      " 7   AMOUNT          object \n",
      " 8   USE_CHIP        object \n",
      " 9   MERCHANT_NAME   int64  \n",
      " 10  MERCHANT_CITY   object \n",
      " 11  MERCHANT_STATE  object \n",
      " 12  ZIP             float64\n",
      " 13  MCC             int64  \n",
      " 14  ERRORS?         object \n",
      " 15  IS_FRAUD?       object \n",
      "dtypes: float64(1), int64(8), object(7)\n",
      "memory usage: 1.2+ GB\n"
     ]
    }
   ],
   "source": [
    "# Correction of the formatting of each column\n",
    "df_transactions.info()"
   ]
  },
  {
   "attachments": {},
   "cell_type": "markdown",
   "metadata": {},
   "source": [
    "Con el resultado anterior, encontramos que debemos cambiar de tipo de dato las siguientes columnas:\n",
    "* **\\'Amount\\'**: De object a float, ya que es un valor numérico precedido un signo $\n",
    "* **:\\'Merchant Name\\'**: De int a object, ya que es un atributo anonimizado y su naturaleza sería tipo texto.\n",
    "* **:\\'MCC\\'**: De int a object, ya que es un valor que no tiene un sentido ordinal.\n",
    "* **:\\'Is Fraud?\\'**: De object a bool, ya que es un atributo que tiene como posibles valores Si o No.\n",
    "* **:\\'Zip\\'**: De float a texto, ya que es un valor que no tiene un sentido ordinal. En este atributo se encuentra que hay un alto porcentaje de valores vacíos, sin embargo, haciendo un análisis a esta columna, se encuentra que sólo tiene valores para las transacciones realizadas físicamente dentro de EEUU, por lo cual, se decide completar los valores con 'N/A', pues no tenemos mayor detalle del lugar de la realización de la compra. Es de anotar que también sería útil traer un codigo zip estandar por cada ciudad, para así poder utilizar herramientas BI y ver las locaciones de manera más detallada.\n",
    "* **\\'Merchant State\\'**: Similar a la anterior columna Zip, existen valores nulos que están relacionados con las transacciones realizadas fuera de EEUU, por lo cual también se imputará con 'N/A'\n",
    "* **:\\'Errors?\\'**: Tiene valores nulos, pero debido a su naturaleza es normal y se decide reemplazar por 'N/A'\n",
    "\n",
    "Además, se ve la oportunidad de crear un campo de fecha, el cual concatene los campos de Year, Month y Day.\n",
    "\n",
    "En este caso no se encuentran valores duplicados, por lo cual, como paso final se guarda el resultado como archivo parquet, debido a sus beneficios de eficiencia de lectura, escritura y almacenamiento de los datos\n",
    "\n",
    "\n",
    "Finalmente, se guarda el resultado como archivo parquet, debido a sus beneficios de eficiencia de lectura, escritura y almacenamiento de los datos"
   ]
  },
  {
   "cell_type": "code",
   "execution_count": 18,
   "metadata": {},
   "outputs": [
    {
     "data": {
      "text/html": [
       "<div>\n",
       "<style scoped>\n",
       "    .dataframe tbody tr th:only-of-type {\n",
       "        vertical-align: middle;\n",
       "    }\n",
       "\n",
       "    .dataframe tbody tr th {\n",
       "        vertical-align: top;\n",
       "    }\n",
       "\n",
       "    .dataframe thead th {\n",
       "        text-align: right;\n",
       "    }\n",
       "</style>\n",
       "<table border=\"1\" class=\"dataframe\">\n",
       "  <thead>\n",
       "    <tr style=\"text-align: right;\">\n",
       "      <th></th>\n",
       "      <th>ID_TRANSACTION</th>\n",
       "      <th>ID_USER</th>\n",
       "      <th>ID_CARD</th>\n",
       "      <th>YEAR</th>\n",
       "      <th>MONTH</th>\n",
       "      <th>DAY</th>\n",
       "      <th>TIME</th>\n",
       "      <th>AMOUNT</th>\n",
       "      <th>USE_CHIP</th>\n",
       "      <th>MERCHANT_NAME</th>\n",
       "      <th>MERCHANT_CITY</th>\n",
       "      <th>MERCHANT_STATE</th>\n",
       "      <th>ZIP</th>\n",
       "      <th>MCC</th>\n",
       "      <th>ERRORS?</th>\n",
       "      <th>IS_FRAUD?</th>\n",
       "    </tr>\n",
       "  </thead>\n",
       "  <tbody>\n",
       "  </tbody>\n",
       "</table>\n",
       "</div>"
      ],
      "text/plain": [
       "Empty DataFrame\n",
       "Columns: [ID_TRANSACTION, ID_USER, ID_CARD, YEAR, MONTH, DAY, TIME, AMOUNT, USE_CHIP, MERCHANT_NAME, MERCHANT_CITY, MERCHANT_STATE, ZIP, MCC, ERRORS?, IS_FRAUD?]\n",
       "Index: []"
      ]
     },
     "execution_count": 18,
     "metadata": {},
     "output_type": "execute_result"
    }
   ],
   "source": [
    "# Columns to report as duplicates\n",
    "df_transactions[df_transactions.duplicated()]"
   ]
  },
  {
   "cell_type": "code",
   "execution_count": null,
   "metadata": {},
   "outputs": [],
   "source": [
    "# Data cleaning and transformation\n",
    "df_transactions['AMOUNT'] = df_transactions['AMOUNT'].str[1:].astype(float)\n",
    "df_transactions['MERCHANT_NAME'] = df_transactions['MERCHANT_NAME'].astype(str)\n",
    "df_transactions['MCC'] = df_transactions['MCC'].astype(str)\n",
    "df_transactions['IS_FRAUD?'] =  df_transactions['IS_FRAUD?'].replace({'Yes': True, 'No': False}).astype(bool)\n",
    "df_transactions['ZIP'] = df_transactions['ZIP'].fillna(0).astype(int).astype(str).replace({'0': 'N/A'})\n",
    "df_transactions['MERCHANT_STATE'] = df_transactions.fillna('N/A')['MERCHANT_STATE']\n",
    "df_transactions['ERRORS?'] = df_transactions['ERRORS?'].fillna('N/A')\n",
    "df_transactions['TRANSACTION_DATE'] = pd.to_datetime(df_transactions[['YEAR', 'MONTH', 'DAY']])\n",
    "\n",
    "# Removing duplicate data\n",
    "df_transactions.drop_duplicates(inplace=True)\n",
    "\n",
    "# Storage of transaction data\n",
    "df_transactions.to_parquet(\"./../data/processed/data_transactions.parquet\", engine='fastparquet')\n"
   ]
  },
  {
   "cell_type": "code",
   "execution_count": null,
   "metadata": {},
   "outputs": [],
   "source": []
  }
 ],
 "metadata": {
  "kernelspec": {
   "display_name": ".venv",
   "language": "python",
   "name": "python3"
  },
  "language_info": {
   "codemirror_mode": {
    "name": "ipython",
    "version": 3
   },
   "file_extension": ".py",
   "mimetype": "text/x-python",
   "name": "python",
   "nbconvert_exporter": "python",
   "pygments_lexer": "ipython3",
   "version": "3.10.11"
  },
  "orig_nbformat": 4
 },
 "nbformat": 4,
 "nbformat_minor": 2
}
